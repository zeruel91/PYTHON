{
  "nbformat": 4,
  "nbformat_minor": 0,
  "metadata": {
    "colab": {
      "name": "not_connected_max_sum.ipynb",
      "provenance": [],
      "authorship_tag": "ABX9TyO737yXuFtsZB/fw12VFR63",
      "include_colab_link": true
    },
    "kernelspec": {
      "name": "python3",
      "display_name": "Python 3"
    }
  },
  "cells": [
    {
      "cell_type": "markdown",
      "metadata": {
        "id": "view-in-github",
        "colab_type": "text"
      },
      "source": [
        "<a href=\"https://colab.research.google.com/github/zeruel91/PYTHON/blob/master/not_connected_max_sum.ipynb\" target=\"_parent\"><img src=\"https://colab.research.google.com/assets/colab-badge.svg\" alt=\"Open In Colab\"/></a>"
      ]
    },
    {
      "cell_type": "code",
      "metadata": {
        "id": "HKOsYRR7cb2b",
        "outputId": "d58faed4-85cb-4a30-9e26-44422b8c0e4f",
        "colab": {
          "base_uri": "https://localhost:8080/",
          "height": 53
        }
      },
      "source": [
        "n = int(input())\n",
        "array = list(map(int,input().split()))"
      ],
      "execution_count": 5,
      "outputs": [
        {
          "output_type": "stream",
          "text": [
            "5\n",
            "1 3 1 5 7\n"
          ],
          "name": "stdout"
        }
      ]
    },
    {
      "cell_type": "code",
      "metadata": {
        "id": "bAfxgpSecih3"
      },
      "source": [
        "d =[0]*100"
      ],
      "execution_count": 6,
      "outputs": []
    },
    {
      "cell_type": "code",
      "metadata": {
        "id": "gXUtYfHBcuJ9",
        "outputId": "ec03e4de-78f4-4927-b0c1-0c1b7cc928dd",
        "colab": {
          "base_uri": "https://localhost:8080/",
          "height": 71
        }
      },
      "source": [
        "d[0] = array[0]\n",
        "d[1] = max(array[0],array[1])\n",
        "for i in range(2,n):\n",
        "  d[i] = max(d[i-1],d[i-2]+array[i])\n",
        "  print(d[i])\n",
        "  #재귀, i-1 번째 까지의 총합인 d[i-1]이 크다면 array[i]를 포함X\n",
        "  #최대값 갱신이라 생각.\n",
        "  #최근거를 추가하는게 더 크니 아니면 이전게 더 크니?\n",
        "  #이전게 더 크다면 변경 X, array i 생략, i + 1에서 다시 생각하겠지만 \n",
        "  #그 경우 d[i-1] = d[i-2]이므로 array[i]를 더하는게 무조건 크다.\n",
        "  #점화식을 통한 최대값 계산"
      ],
      "execution_count": 9,
      "outputs": [
        {
          "output_type": "stream",
          "text": [
            "3\n",
            "8\n",
            "10\n"
          ],
          "name": "stdout"
        }
      ]
    },
    {
      "cell_type": "code",
      "metadata": {
        "id": "mSMlezfldDoV",
        "outputId": "9fd8c7f9-5b76-47d2-f7df-31ec8886315e",
        "colab": {
          "base_uri": "https://localhost:8080/",
          "height": 35
        }
      },
      "source": [
        "print(d[n-1])"
      ],
      "execution_count": 10,
      "outputs": [
        {
          "output_type": "stream",
          "text": [
            "10\n"
          ],
          "name": "stdout"
        }
      ]
    },
    {
      "cell_type": "code",
      "metadata": {
        "id": "bfKOg95idKCt"
      },
      "source": [
        ""
      ],
      "execution_count": null,
      "outputs": []
    }
  ]
}