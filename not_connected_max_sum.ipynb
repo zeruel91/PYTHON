{
  "nbformat": 4,
  "nbformat_minor": 0,
  "metadata": {
    "colab": {
      "name": "not_connected_max_sum.ipynb",
      "provenance": [],
      "authorship_tag": "ABX9TyPvfKyVICT9toVyod+RTyll",
      "include_colab_link": true
    },
    "kernelspec": {
      "name": "python3",
      "display_name": "Python 3"
    }
  },
  "cells": [
    {
      "cell_type": "markdown",
      "metadata": {
        "id": "view-in-github",
        "colab_type": "text"
      },
      "source": [
        "<a href=\"https://colab.research.google.com/github/zeruel91/PYTHON/blob/master/not_connected_max_sum.ipynb\" target=\"_parent\"><img src=\"https://colab.research.google.com/assets/colab-badge.svg\" alt=\"Open In Colab\"/></a>"
      ]
    },
    {
      "cell_type": "code",
      "metadata": {
        "id": "HKOsYRR7cb2b",
        "outputId": "06c3ada3-b6fe-47fb-bfe9-af8b39f47514",
        "colab": {
          "base_uri": "https://localhost:8080/",
          "height": 53
        }
      },
      "source": [
        "n = int(input())\n",
        "array = list(map(int,input().split()))"
      ],
      "execution_count": 1,
      "outputs": [
        {
          "output_type": "stream",
          "text": [
            "4\n",
            "1 3 5 8\n"
          ],
          "name": "stdout"
        }
      ]
    },
    {
      "cell_type": "code",
      "metadata": {
        "id": "bAfxgpSecih3"
      },
      "source": [
        "d =[0]*100"
      ],
      "execution_count": 2,
      "outputs": []
    },
    {
      "cell_type": "code",
      "metadata": {
        "id": "gXUtYfHBcuJ9"
      },
      "source": [
        "d[0] = array[0]\n",
        "d[1] = max(array[0],array[1])\n",
        "for i in range(2,n):\n",
        "  d[i] = max(d[i-1],d[i-2]+array[i]) #재귀, i-1 번째 까지의 총합인 d[i-1]이 크다면 array[i]를 포함X\n",
        "  #최대값 갱신이라 생각.\n",
        "  #최근거를 추가하는게 더 크니 아니면 이전게 더 크니?\n",
        "  #이전게 더 크다면 변경 X, array i 생략, i + 1에서 다시 생각하겠지만 \n",
        "  #그 경우 d[i-1] = d[i-2]이므로 array[i]를 더하는게 무조건 크다.\n",
        "  #점화식을 통한 최대값 계산"
      ],
      "execution_count": 3,
      "outputs": []
    },
    {
      "cell_type": "code",
      "metadata": {
        "id": "mSMlezfldDoV",
        "outputId": "4e9b0243-d3f3-4c47-8f89-c13c841ead22",
        "colab": {
          "base_uri": "https://localhost:8080/",
          "height": 35
        }
      },
      "source": [
        "print(d[n-1])"
      ],
      "execution_count": 4,
      "outputs": [
        {
          "output_type": "stream",
          "text": [
            "11\n"
          ],
          "name": "stdout"
        }
      ]
    },
    {
      "cell_type": "code",
      "metadata": {
        "id": "bfKOg95idKCt"
      },
      "source": [
        ""
      ],
      "execution_count": null,
      "outputs": []
    }
  ]
}