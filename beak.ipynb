{
  "nbformat": 4,
  "nbformat_minor": 0,
  "metadata": {
    "colab": {
      "name": "beak.ipynb",
      "provenance": [],
      "authorship_tag": "ABX9TyP0MvhgmpABeVweBOW0P95r",
      "include_colab_link": true
    },
    "kernelspec": {
      "name": "python3",
      "display_name": "Python 3"
    }
  },
  "cells": [
    {
      "cell_type": "markdown",
      "metadata": {
        "id": "view-in-github",
        "colab_type": "text"
      },
      "source": [
        "<a href=\"https://colab.research.google.com/github/zeruel91/PYTHON/blob/master/beak.ipynb\" target=\"_parent\"><img src=\"https://colab.research.google.com/assets/colab-badge.svg\" alt=\"Open In Colab\"/></a>"
      ]
    },
    {
      "cell_type": "code",
      "metadata": {
        "id": "lM-RFSWRsZhf",
        "outputId": "31c5bafa-eda8-4553-90b5-23decf59225b",
        "colab": {
          "base_uri": "https://localhost:8080/",
          "height": 89
        }
      },
      "source": [
        "# 정수 N, M을 입력 받기\n",
        "n, m = map(int, input().split())\n",
        "# N개의 화폐 단위 정보를 입력 받기\n",
        "array = []\n",
        "for i in range(n):\n",
        "  array.append(int(input()))\n",
        "# 한 번 계산된 결과를 저장하기 위한 DP 테이블 초기화\n",
        "d = [10001] * (m + 1)\n",
        "# 다이나믹 프로그래밍(Dynamic Programming) 진행(보텀업)\n",
        "d[0] = 0\n",
        "for i in range(n):\n",
        "  for j in range(array[i], m + 1):\n",
        "    if d[j - array[i]] != 10001: # (i - k)원을 만드는 방법이 존재하는 경우\n",
        "      d[j] = min(d[j], d[j - array[i]] + 1)\n",
        "# 계산된 결과 출력\n",
        "if d[m] == 10001: # 최종적으로 M원을 만드는 방법이 없\n",
        "  print(-1)\n",
        "else:\n",
        "  print(d[m])"
      ],
      "execution_count": 6,
      "outputs": [
        {
          "output_type": "stream",
          "text": [
            "3 5\n",
            "4\n",
            "1\n",
            "2\n"
          ],
          "name": "stdout"
        }
      ]
    }
  ]
}